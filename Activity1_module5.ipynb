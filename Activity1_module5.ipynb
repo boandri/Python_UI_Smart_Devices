{
  "nbformat": 4,
  "nbformat_minor": 0,
  "metadata": {
    "colab": {
      "provenance": [],
      "authorship_tag": "ABX9TyPMj+ZgtCpTlLLt9xhXyXhN",
      "include_colab_link": true
    },
    "kernelspec": {
      "name": "python3",
      "display_name": "Python 3"
    },
    "language_info": {
      "name": "python"
    }
  },
  "cells": [
    {
      "cell_type": "markdown",
      "metadata": {
        "id": "view-in-github",
        "colab_type": "text"
      },
      "source": [
        "<a href=\"https://colab.research.google.com/github/boandri/Python_UI_Smart_Devices/blob/main/Activity1_module5.ipynb\" target=\"_parent\"><img src=\"https://colab.research.google.com/assets/colab-badge.svg\" alt=\"Open In Colab\"/></a>"
      ]
    },
    {
      "cell_type": "markdown",
      "source": [
        "# Activity 1\n"
      ],
      "metadata": {
        "id": "krJhKf42MQT5"
      }
    },
    {
      "cell_type": "code",
      "execution_count": 1,
      "metadata": {
        "id": "h4DpIw34J8Lp"
      },
      "outputs": [],
      "source": [
        "import tensorflow as tf\n"
      ]
    },
    {
      "cell_type": "code",
      "source": [
        "x=tf.constant([[5,2],[1,3]])"
      ],
      "metadata": {
        "id": "CuXKlN5hMRuJ"
      },
      "execution_count": 3,
      "outputs": []
    },
    {
      "cell_type": "code",
      "source": [
        "x"
      ],
      "metadata": {
        "colab": {
          "base_uri": "https://localhost:8080/"
        },
        "id": "GdDp-K_8MYbD",
        "outputId": "638039dd-c321-4eec-aac7-2aefe080adeb"
      },
      "execution_count": 4,
      "outputs": [
        {
          "output_type": "execute_result",
          "data": {
            "text/plain": [
              "<tf.Tensor: shape=(2, 2), dtype=int32, numpy=\n",
              "array([[5, 2],\n",
              "       [1, 3]], dtype=int32)>"
            ]
          },
          "metadata": {},
          "execution_count": 4
        }
      ]
    },
    {
      "cell_type": "code",
      "source": [
        "print(x)"
      ],
      "metadata": {
        "colab": {
          "base_uri": "https://localhost:8080/"
        },
        "id": "8cbBU-JVMc88",
        "outputId": "1dfd8eca-a994-4815-c9fa-e021eb3bef5f"
      },
      "execution_count": 5,
      "outputs": [
        {
          "output_type": "stream",
          "name": "stdout",
          "text": [
            "tf.Tensor(\n",
            "[[5 2]\n",
            " [1 3]], shape=(2, 2), dtype=int32)\n"
          ]
        }
      ]
    },
    {
      "cell_type": "code",
      "source": [
        "x.numpy()"
      ],
      "metadata": {
        "colab": {
          "base_uri": "https://localhost:8080/"
        },
        "id": "4maKf9laMnDc",
        "outputId": "e94faef3-051b-474f-e363-ffe40843f8e6"
      },
      "execution_count": 6,
      "outputs": [
        {
          "output_type": "execute_result",
          "data": {
            "text/plain": [
              "array([[5, 2],\n",
              "       [1, 3]], dtype=int32)"
            ]
          },
          "metadata": {},
          "execution_count": 6
        }
      ]
    },
    {
      "cell_type": "code",
      "source": [
        "x.dtype"
      ],
      "metadata": {
        "colab": {
          "base_uri": "https://localhost:8080/"
        },
        "id": "tOzLQtPdMrJj",
        "outputId": "22390aad-abc1-460c-a6ac-d01046a4e842"
      },
      "execution_count": 7,
      "outputs": [
        {
          "output_type": "execute_result",
          "data": {
            "text/plain": [
              "tf.int32"
            ]
          },
          "metadata": {},
          "execution_count": 7
        }
      ]
    },
    {
      "cell_type": "code",
      "source": [
        "x.shape"
      ],
      "metadata": {
        "colab": {
          "base_uri": "https://localhost:8080/"
        },
        "id": "WyfLd9cZMtfb",
        "outputId": "8b58ac75-0e67-484c-9c74-558602a32d35"
      },
      "execution_count": 11,
      "outputs": [
        {
          "output_type": "execute_result",
          "data": {
            "text/plain": [
              "TensorShape([2, 2])"
            ]
          },
          "metadata": {},
          "execution_count": 11
        }
      ]
    },
    {
      "cell_type": "code",
      "source": [
        "x.backing_device"
      ],
      "metadata": {
        "colab": {
          "base_uri": "https://localhost:8080/",
          "height": 36
        },
        "id": "wxYzQZXmM6rl",
        "outputId": "931f2a18-782b-4edb-dcf1-333df2242d0c"
      },
      "execution_count": 12,
      "outputs": [
        {
          "output_type": "execute_result",
          "data": {
            "text/plain": [
              "'/job:localhost/replica:0/task:0/device:CPU:0'"
            ],
            "application/vnd.google.colaboratory.intrinsic+json": {
              "type": "string"
            }
          },
          "metadata": {},
          "execution_count": 12
        }
      ]
    },
    {
      "cell_type": "code",
      "source": [
        "tf.ones(shape=(3,3))"
      ],
      "metadata": {
        "colab": {
          "base_uri": "https://localhost:8080/"
        },
        "id": "stpNJS8SM8KN",
        "outputId": "0773ff75-4d31-40de-b00a-7ca0007c50bc"
      },
      "execution_count": 13,
      "outputs": [
        {
          "output_type": "execute_result",
          "data": {
            "text/plain": [
              "<tf.Tensor: shape=(3, 3), dtype=float32, numpy=\n",
              "array([[1., 1., 1.],\n",
              "       [1., 1., 1.],\n",
              "       [1., 1., 1.]], dtype=float32)>"
            ]
          },
          "metadata": {},
          "execution_count": 13
        }
      ]
    },
    {
      "cell_type": "code",
      "source": [
        "tf.zeros(shape=(2,3))"
      ],
      "metadata": {
        "colab": {
          "base_uri": "https://localhost:8080/"
        },
        "id": "ykn_YYaTNkEZ",
        "outputId": "7b1eb7ba-b88b-488f-8bea-a5d6ef586443"
      },
      "execution_count": 14,
      "outputs": [
        {
          "output_type": "execute_result",
          "data": {
            "text/plain": [
              "<tf.Tensor: shape=(2, 3), dtype=float32, numpy=\n",
              "array([[0., 0., 0.],\n",
              "       [0., 0., 0.]], dtype=float32)>"
            ]
          },
          "metadata": {},
          "execution_count": 14
        }
      ]
    },
    {
      "cell_type": "code",
      "source": [
        "tf.random.normal(shape=(2,3))"
      ],
      "metadata": {
        "colab": {
          "base_uri": "https://localhost:8080/"
        },
        "id": "m1XRP-ErNmKZ",
        "outputId": "69f7c23c-916d-4cc6-81e4-d9dba4b7ff52"
      },
      "execution_count": 15,
      "outputs": [
        {
          "output_type": "execute_result",
          "data": {
            "text/plain": [
              "<tf.Tensor: shape=(2, 3), dtype=float32, numpy=\n",
              "array([[ 0.51981026,  0.47062817,  0.41882718],\n",
              "       [-1.3320663 , -0.42266133, -0.817917  ]], dtype=float32)>"
            ]
          },
          "metadata": {},
          "execution_count": 15
        }
      ]
    },
    {
      "cell_type": "code",
      "source": [
        "tf.random.normal(shape=(2,3),mean =5 , stddev=3)"
      ],
      "metadata": {
        "colab": {
          "base_uri": "https://localhost:8080/"
        },
        "id": "yOVKkm9BNn6J",
        "outputId": "a7386766-4447-4504-943b-90fd42e7c318"
      },
      "execution_count": 16,
      "outputs": [
        {
          "output_type": "execute_result",
          "data": {
            "text/plain": [
              "<tf.Tensor: shape=(2, 3), dtype=float32, numpy=\n",
              "array([[ 2.5728528 ,  6.972598  , -0.41160393],\n",
              "       [ 5.045861  ,  0.84401417,  7.885689  ]], dtype=float32)>"
            ]
          },
          "metadata": {},
          "execution_count": 16
        }
      ]
    },
    {
      "cell_type": "markdown",
      "source": [
        "# Activity2"
      ],
      "metadata": {
        "id": "QLTPLf_1OI-c"
      }
    },
    {
      "cell_type": "code",
      "source": [
        "xvar=tf.random.normal(shape=(3,3))\n"
      ],
      "metadata": {
        "id": "itHRvkuDONX0"
      },
      "execution_count": 17,
      "outputs": []
    },
    {
      "cell_type": "code",
      "source": [
        "xvar"
      ],
      "metadata": {
        "colab": {
          "base_uri": "https://localhost:8080/"
        },
        "id": "r5Mb1XfLOPmk",
        "outputId": "7cc08408-f1e7-4f6b-fd54-31ccaa673598"
      },
      "execution_count": 18,
      "outputs": [
        {
          "output_type": "execute_result",
          "data": {
            "text/plain": [
              "<tf.Tensor: shape=(3, 3), dtype=float32, numpy=\n",
              "array([[ 0.5586998 ,  0.24332196,  0.07634963],\n",
              "       [ 0.8809669 , -0.979838  ,  1.824829  ],\n",
              "       [-0.46442357, -0.5664128 ,  0.5496006 ]], dtype=float32)>"
            ]
          },
          "metadata": {},
          "execution_count": 18
        }
      ]
    },
    {
      "cell_type": "code",
      "source": [
        "a=tf.Variable(xvar)"
      ],
      "metadata": {
        "id": "fXXH91okORH8"
      },
      "execution_count": 19,
      "outputs": []
    },
    {
      "cell_type": "code",
      "source": [
        "a"
      ],
      "metadata": {
        "colab": {
          "base_uri": "https://localhost:8080/"
        },
        "id": "HzgRTnbLOUAm",
        "outputId": "89d72571-2a23-482c-e972-4fa867cb76ea"
      },
      "execution_count": 20,
      "outputs": [
        {
          "output_type": "execute_result",
          "data": {
            "text/plain": [
              "<tf.Variable 'Variable:0' shape=(3, 3) dtype=float32, numpy=\n",
              "array([[ 0.5586998 ,  0.24332196,  0.07634963],\n",
              "       [ 0.8809669 , -0.979838  ,  1.824829  ],\n",
              "       [-0.46442357, -0.5664128 ,  0.5496006 ]], dtype=float32)>"
            ]
          },
          "metadata": {},
          "execution_count": 20
        }
      ]
    },
    {
      "cell_type": "code",
      "source": [
        "a.assign(tf.random.normal(shape=(3,3)))"
      ],
      "metadata": {
        "colab": {
          "base_uri": "https://localhost:8080/"
        },
        "id": "qEgKQq8qOUzj",
        "outputId": "7862f5cf-af0e-419f-d6b9-12f2e4734d82"
      },
      "execution_count": 22,
      "outputs": [
        {
          "output_type": "execute_result",
          "data": {
            "text/plain": [
              "<tf.Variable 'UnreadVariable' shape=(3, 3) dtype=float32, numpy=\n",
              "array([[-0.32870126,  1.2534577 ,  0.42719978],\n",
              "       [ 2.5303347 , -0.47893125,  2.1879268 ],\n",
              "       [-1.5075923 , -0.595948  , -1.3945541 ]], dtype=float32)>"
            ]
          },
          "metadata": {},
          "execution_count": 22
        }
      ]
    },
    {
      "cell_type": "code",
      "source": [
        "xvar_t_add=tf.random.normal(shape=(3,3))"
      ],
      "metadata": {
        "id": "d4JGDF4YOblT"
      },
      "execution_count": 23,
      "outputs": []
    },
    {
      "cell_type": "code",
      "source": [
        "xvar_t_add"
      ],
      "metadata": {
        "colab": {
          "base_uri": "https://localhost:8080/"
        },
        "id": "XcOh4NXdOgcd",
        "outputId": "a1f7b22c-db56-42af-bfe3-f3d5cab5af90"
      },
      "execution_count": 24,
      "outputs": [
        {
          "output_type": "execute_result",
          "data": {
            "text/plain": [
              "<tf.Tensor: shape=(3, 3), dtype=float32, numpy=\n",
              "array([[ 0.6097242 ,  0.03999173,  0.28121305],\n",
              "       [ 0.9766412 ,  1.4913728 ,  0.35746947],\n",
              "       [-0.7204199 ,  0.4756074 , -1.6424268 ]], dtype=float32)>"
            ]
          },
          "metadata": {},
          "execution_count": 24
        }
      ]
    },
    {
      "cell_type": "code",
      "source": [
        "a.assign_add(xvar_t_add)"
      ],
      "metadata": {
        "colab": {
          "base_uri": "https://localhost:8080/"
        },
        "id": "vZIgeNknOh90",
        "outputId": "d7058f01-9473-4adc-a2b6-3e6d13529c7a"
      },
      "execution_count": 25,
      "outputs": [
        {
          "output_type": "execute_result",
          "data": {
            "text/plain": [
              "<tf.Variable 'UnreadVariable' shape=(3, 3) dtype=float32, numpy=\n",
              "array([[ 0.28102297,  1.2934494 ,  0.7084128 ],\n",
              "       [ 3.506976  ,  1.0124416 ,  2.5453963 ],\n",
              "       [-2.228012  , -0.12034059, -3.036981  ]], dtype=float32)>"
            ]
          },
          "metadata": {},
          "execution_count": 25
        }
      ]
    },
    {
      "cell_type": "code",
      "source": [
        "a.assign_sub(xvar_t_add)"
      ],
      "metadata": {
        "colab": {
          "base_uri": "https://localhost:8080/"
        },
        "id": "-HTnKzCTOnzr",
        "outputId": "248829d9-25be-4c7d-ea7a-d54f25394ba5"
      },
      "execution_count": 26,
      "outputs": [
        {
          "output_type": "execute_result",
          "data": {
            "text/plain": [
              "<tf.Variable 'UnreadVariable' shape=(3, 3) dtype=float32, numpy=\n",
              "array([[-0.32870126,  1.2534577 ,  0.42719978],\n",
              "       [ 2.5303347 , -0.4789312 ,  2.1879268 ],\n",
              "       [-1.5075922 , -0.595948  , -1.3945543 ]], dtype=float32)>"
            ]
          },
          "metadata": {},
          "execution_count": 26
        }
      ]
    },
    {
      "cell_type": "code",
      "source": [
        "new_value=tf.random.normal(shape=(3,3))"
      ],
      "metadata": {
        "id": "FcuTRlAQOsHR"
      },
      "execution_count": 27,
      "outputs": []
    },
    {
      "cell_type": "code",
      "source": [
        "new_value"
      ],
      "metadata": {
        "colab": {
          "base_uri": "https://localhost:8080/"
        },
        "id": "cW6KJcHtOu8x",
        "outputId": "1d382c1b-a727-41c6-8eac-a8f3f86f1fc8"
      },
      "execution_count": 28,
      "outputs": [
        {
          "output_type": "execute_result",
          "data": {
            "text/plain": [
              "<tf.Tensor: shape=(3, 3), dtype=float32, numpy=\n",
              "array([[ 1.9103477 ,  1.5959003 ,  0.7158882 ],\n",
              "       [-0.17347375, -0.36201698, -1.508201  ],\n",
              "       [-1.0694511 , -1.6874553 , -0.89345044]], dtype=float32)>"
            ]
          },
          "metadata": {},
          "execution_count": 28
        }
      ]
    },
    {
      "cell_type": "code",
      "source": [
        "a"
      ],
      "metadata": {
        "colab": {
          "base_uri": "https://localhost:8080/"
        },
        "id": "c85nlNE3Owu5",
        "outputId": "de73eda4-f22c-42b7-9837-e589a7f2360c"
      },
      "execution_count": 29,
      "outputs": [
        {
          "output_type": "execute_result",
          "data": {
            "text/plain": [
              "<tf.Variable 'Variable:0' shape=(3, 3) dtype=float32, numpy=\n",
              "array([[-0.32870126,  1.2534577 ,  0.42719978],\n",
              "       [ 2.5303347 , -0.4789312 ,  2.1879268 ],\n",
              "       [-1.5075922 , -0.595948  , -1.3945543 ]], dtype=float32)>"
            ]
          },
          "metadata": {},
          "execution_count": 29
        }
      ]
    },
    {
      "cell_type": "code",
      "source": [
        "a.assign_add(new_value)"
      ],
      "metadata": {
        "colab": {
          "base_uri": "https://localhost:8080/"
        },
        "id": "LdHGHEhbOyEY",
        "outputId": "9ad2d25e-57d5-40de-a5bc-fe0936a16529"
      },
      "execution_count": 30,
      "outputs": [
        {
          "output_type": "execute_result",
          "data": {
            "text/plain": [
              "<tf.Variable 'UnreadVariable' shape=(3, 3) dtype=float32, numpy=\n",
              "array([[ 1.5816464 ,  2.849358  ,  1.143088  ],\n",
              "       [ 2.3568609 , -0.84094816,  0.67972577],\n",
              "       [-2.5770433 , -2.2834034 , -2.2880046 ]], dtype=float32)>"
            ]
          },
          "metadata": {},
          "execution_count": 30
        }
      ]
    },
    {
      "cell_type": "code",
      "source": [
        "b=tf.random.normal(shape=(3,3))"
      ],
      "metadata": {
        "id": "6t-knxQ2PB4U"
      },
      "execution_count": 31,
      "outputs": []
    },
    {
      "cell_type": "code",
      "source": [
        "b"
      ],
      "metadata": {
        "colab": {
          "base_uri": "https://localhost:8080/"
        },
        "id": "PGVnQOcNPF33",
        "outputId": "9b69c55f-2b92-44f4-fb50-4319d35dadba"
      },
      "execution_count": 32,
      "outputs": [
        {
          "output_type": "execute_result",
          "data": {
            "text/plain": [
              "<tf.Tensor: shape=(3, 3), dtype=float32, numpy=\n",
              "array([[ 1.3927267 ,  0.5279766 ,  0.2573678 ],\n",
              "       [ 0.8863101 ,  0.96958077, -0.5625133 ],\n",
              "       [ 0.34989846, -1.8499855 ,  0.2194147 ]], dtype=float32)>"
            ]
          },
          "metadata": {},
          "execution_count": 32
        }
      ]
    },
    {
      "cell_type": "code",
      "source": [
        "print(b)"
      ],
      "metadata": {
        "colab": {
          "base_uri": "https://localhost:8080/"
        },
        "id": "C4Ntp1szPGcv",
        "outputId": "354b139f-a2f5-4972-ac6b-20ca56c02239"
      },
      "execution_count": 33,
      "outputs": [
        {
          "output_type": "stream",
          "name": "stdout",
          "text": [
            "tf.Tensor(\n",
            "[[ 1.3927267   0.5279766   0.2573678 ]\n",
            " [ 0.8863101   0.96958077 -0.5625133 ]\n",
            " [ 0.34989846 -1.8499855   0.2194147 ]], shape=(3, 3), dtype=float32)\n"
          ]
        }
      ]
    },
    {
      "cell_type": "code",
      "source": [
        "c = a + b"
      ],
      "metadata": {
        "id": "0x-WU7kRPJKo"
      },
      "execution_count": 34,
      "outputs": []
    },
    {
      "cell_type": "code",
      "source": [
        "c"
      ],
      "metadata": {
        "colab": {
          "base_uri": "https://localhost:8080/"
        },
        "id": "auFTvBjqPNS8",
        "outputId": "24e2289f-4bcb-49bc-901a-50d36ee44407"
      },
      "execution_count": 35,
      "outputs": [
        {
          "output_type": "execute_result",
          "data": {
            "text/plain": [
              "<tf.Tensor: shape=(3, 3), dtype=float32, numpy=\n",
              "array([[ 2.974373  ,  3.3773346 ,  1.4004557 ],\n",
              "       [ 3.243171  ,  0.1286326 ,  0.11721247],\n",
              "       [-2.2271447 , -4.133389  , -2.06859   ]], dtype=float32)>"
            ]
          },
          "metadata": {},
          "execution_count": 35
        }
      ]
    },
    {
      "cell_type": "code",
      "source": [
        "d=tf.square(c)"
      ],
      "metadata": {
        "id": "5yLBG5llPN2z"
      },
      "execution_count": 36,
      "outputs": []
    },
    {
      "cell_type": "code",
      "source": [
        "d"
      ],
      "metadata": {
        "colab": {
          "base_uri": "https://localhost:8080/"
        },
        "id": "mU1DRHX1PTdc",
        "outputId": "c61d4586-30c2-4aed-88a8-7b3e9b57d5af"
      },
      "execution_count": 37,
      "outputs": [
        {
          "output_type": "execute_result",
          "data": {
            "text/plain": [
              "<tf.Tensor: shape=(3, 3), dtype=float32, numpy=\n",
              "array([[8.8468952e+00, 1.1406389e+01, 1.9612762e+00],\n",
              "       [1.0518158e+01, 1.6546346e-02, 1.3738764e-02],\n",
              "       [4.9601736e+00, 1.7084904e+01, 4.2790642e+00]], dtype=float32)>"
            ]
          },
          "metadata": {},
          "execution_count": 37
        }
      ]
    },
    {
      "cell_type": "code",
      "source": [
        "e=tf.exp(c)"
      ],
      "metadata": {
        "id": "7zbwTtLoPT-l"
      },
      "execution_count": 38,
      "outputs": []
    },
    {
      "cell_type": "code",
      "source": [
        "print(e)"
      ],
      "metadata": {
        "colab": {
          "base_uri": "https://localhost:8080/"
        },
        "id": "41pdbk1MPWiN",
        "outputId": "b7e9ea88-3db0-4f1c-969c-673167c4da3a"
      },
      "execution_count": 40,
      "outputs": [
        {
          "output_type": "stream",
          "name": "stdout",
          "text": [
            "tf.Tensor(\n",
            "[[1.9577347e+01 2.9292589e+01 4.0570483e+00]\n",
            " [2.5614817e+01 1.1372721e+00 1.1243584e+00]\n",
            " [1.0783590e-01 1.6028466e-02 1.2636384e-01]], shape=(3, 3), dtype=float32)\n"
          ]
        }
      ]
    },
    {
      "cell_type": "code",
      "source": [
        "with tf.GradientTape() as tape:\n",
        "    tape.watch(a)\n",
        "    f=tf.sqrt(tf.square(a)+tf.square(b))\n",
        "    df_da=tape.gradient(f,a)\n",
        "    print(df_da)"
      ],
      "metadata": {
        "colab": {
          "base_uri": "https://localhost:8080/"
        },
        "id": "oGctjk11Pf47",
        "outputId": "c823743b-ec17-4b37-c518-82dff8520780"
      },
      "execution_count": 41,
      "outputs": [
        {
          "output_type": "stream",
          "name": "stdout",
          "text": [
            "tf.Tensor(\n",
            "[[ 0.750507   0.9832624  0.9755781]\n",
            " [ 0.936004  -0.6552174  0.7704046]\n",
            " [-0.990908  -0.7769925 -0.9954333]], shape=(3, 3), dtype=float32)\n"
          ]
        }
      ]
    },
    {
      "cell_type": "markdown",
      "source": [
        "# Activity3(Example)"
      ],
      "metadata": {
        "id": "bN5i3EyHQ0oX"
      }
    },
    {
      "cell_type": "code",
      "source": [
        "import tensorflow as tf"
      ],
      "metadata": {
        "id": "jX5-zR1PPxM_"
      },
      "execution_count": 42,
      "outputs": []
    },
    {
      "cell_type": "code",
      "source": [
        "mnist = tf.keras.datasets.mnist"
      ],
      "metadata": {
        "id": "sn4Bemd2RNoG"
      },
      "execution_count": 43,
      "outputs": []
    },
    {
      "cell_type": "code",
      "source": [
        "(x_train, y_train),(x_test, y_test) = mnist.load_data()"
      ],
      "metadata": {
        "colab": {
          "base_uri": "https://localhost:8080/"
        },
        "id": "qqUM4sthROxn",
        "outputId": "d1bb0093-30a4-4b9c-ead3-f6d9e2a0559f"
      },
      "execution_count": 44,
      "outputs": [
        {
          "output_type": "stream",
          "name": "stdout",
          "text": [
            "Downloading data from https://storage.googleapis.com/tensorflow/tf-keras-datasets/mnist.npz\n",
            "11490434/11490434 [==============================] - 0s 0us/step\n"
          ]
        }
      ]
    },
    {
      "cell_type": "code",
      "source": [
        "x_train, x_test = x_train / 255.0, x_test / 255.0"
      ],
      "metadata": {
        "id": "0g93_98nRQ--"
      },
      "execution_count": 45,
      "outputs": []
    },
    {
      "cell_type": "code",
      "source": [
        "model = tf.keras.models.Sequential([\n",
        "tf.keras.layers.Flatten(input_shape=(28, 28)),\n",
        "tf.keras.layers.Dense(128, activation='relu'),\n",
        "tf.keras.layers.Dropout(0.2),\n",
        "tf.keras.layers.Dense(10, activation='softmax')\n",
        "])"
      ],
      "metadata": {
        "id": "hK2-mUxGRV7m"
      },
      "execution_count": 46,
      "outputs": []
    },
    {
      "cell_type": "code",
      "source": [
        "model.compile(optimizer='adam',\n",
        "loss='sparse_categorical_crossentropy',\n",
        "metrics=['accuracy'])"
      ],
      "metadata": {
        "id": "XAwLexNsRZBl"
      },
      "execution_count": 47,
      "outputs": []
    },
    {
      "cell_type": "code",
      "source": [
        "model.fit(x_train, y_train, epochs=5)"
      ],
      "metadata": {
        "colab": {
          "base_uri": "https://localhost:8080/"
        },
        "id": "ibFEvtifRcWG",
        "outputId": "d2eb73be-b464-442c-c5cf-720a8fc0721a"
      },
      "execution_count": 48,
      "outputs": [
        {
          "output_type": "stream",
          "name": "stdout",
          "text": [
            "Epoch 1/5\n",
            "1875/1875 [==============================] - 10s 5ms/step - loss: 0.2952 - accuracy: 0.9140\n",
            "Epoch 2/5\n",
            "1875/1875 [==============================] - 7s 3ms/step - loss: 0.1436 - accuracy: 0.9578\n",
            "Epoch 3/5\n",
            "1875/1875 [==============================] - 7s 4ms/step - loss: 0.1075 - accuracy: 0.9679\n",
            "Epoch 4/5\n",
            "1875/1875 [==============================] - 6s 3ms/step - loss: 0.0871 - accuracy: 0.9731\n",
            "Epoch 5/5\n",
            "1875/1875 [==============================] - 8s 4ms/step - loss: 0.0757 - accuracy: 0.9760\n"
          ]
        },
        {
          "output_type": "execute_result",
          "data": {
            "text/plain": [
              "<keras.callbacks.History at 0x7f0737f45370>"
            ]
          },
          "metadata": {},
          "execution_count": 48
        }
      ]
    },
    {
      "cell_type": "code",
      "source": [
        "model.evaluate(x_test, y_test)"
      ],
      "metadata": {
        "colab": {
          "base_uri": "https://localhost:8080/"
        },
        "id": "y6rcU6DBRdtu",
        "outputId": "c9d9c478-c88b-4e7d-ae15-e054cc043cf4"
      },
      "execution_count": 49,
      "outputs": [
        {
          "output_type": "stream",
          "name": "stdout",
          "text": [
            "313/313 [==============================] - 2s 5ms/step - loss: 0.0775 - accuracy: 0.9765\n"
          ]
        },
        {
          "output_type": "execute_result",
          "data": {
            "text/plain": [
              "[0.07745105028152466, 0.9764999747276306]"
            ]
          },
          "metadata": {},
          "execution_count": 49
        }
      ]
    },
    {
      "cell_type": "markdown",
      "source": [
        "## Activity4(Keras Example)"
      ],
      "metadata": {
        "id": "FQh0n8wZR73L"
      }
    },
    {
      "cell_type": "code",
      "source": [
        "import numpy as np"
      ],
      "metadata": {
        "id": "1o4VUk1QR_y0"
      },
      "execution_count": 50,
      "outputs": []
    },
    {
      "cell_type": "code",
      "source": [
        "import tensorflow as tf"
      ],
      "metadata": {
        "id": "VGjuxhmBSClT"
      },
      "execution_count": 51,
      "outputs": []
    },
    {
      "cell_type": "code",
      "source": [
        "from tensorflow import keras"
      ],
      "metadata": {
        "id": "Lnm0Jv2QTV_4"
      },
      "execution_count": 52,
      "outputs": []
    },
    {
      "cell_type": "code",
      "source": [
        "from tensorflow.keras import layers\n"
      ],
      "metadata": {
        "id": "YTBrgKpOTW-Q"
      },
      "execution_count": 53,
      "outputs": []
    },
    {
      "cell_type": "code",
      "source": [
        "inputs = keras.Input(shape=(784,)) #2^3*7^2"
      ],
      "metadata": {
        "id": "fC1eeQAXTYfw"
      },
      "execution_count": 54,
      "outputs": []
    },
    {
      "cell_type": "code",
      "source": [
        "dense = layers.Dense(64, activation=\"relu\")"
      ],
      "metadata": {
        "id": "XBOilbP2TZiA"
      },
      "execution_count": 55,
      "outputs": []
    },
    {
      "cell_type": "code",
      "source": [
        "x = dense(inputs)"
      ],
      "metadata": {
        "id": "4Bos1lhgTbDg"
      },
      "execution_count": 56,
      "outputs": []
    },
    {
      "cell_type": "code",
      "source": [
        "y = layers.Dense(64, activation=\"relu\")(x)"
      ],
      "metadata": {
        "id": "HEW7aE71TcDH"
      },
      "execution_count": 57,
      "outputs": []
    },
    {
      "cell_type": "code",
      "source": [
        "outputs = layers.Dense(10)(y)"
      ],
      "metadata": {
        "id": "buAmYqlqTdW_"
      },
      "execution_count": 58,
      "outputs": []
    },
    {
      "cell_type": "code",
      "source": [
        "model = keras.Model(inputs=inputs, outputs=outputs, name=\"mnist_model\")\n",
        "#keras.utils.plot_model(model, r\"d:\\my_first_model.png\")\n",
        "#keras.utils.plot_model(model, r\"d:\\my_first_model_with_shape_info.png\", show_shapes=True)"
      ],
      "metadata": {
        "id": "s8QGOYJgTfFF"
      },
      "execution_count": 59,
      "outputs": []
    },
    {
      "cell_type": "code",
      "source": [
        "#Ref: https://keras.io/api/optimizers/\n",
        "(x_train, y_train), (x_test, y_test) = keras.datasets.mnist.load_data()\n"
      ],
      "metadata": {
        "id": "EzpePppqTiT_"
      },
      "execution_count": 60,
      "outputs": []
    },
    {
      "cell_type": "code",
      "source": [
        "x_train = x_train.reshape(60000, 784).astype(\"float32\") / 255"
      ],
      "metadata": {
        "id": "hHCuO7qzTkwH"
      },
      "execution_count": 61,
      "outputs": []
    },
    {
      "cell_type": "code",
      "source": [
        "x_test = x_test.reshape(10000, 784).astype(\"float32\") / 255"
      ],
      "metadata": {
        "id": "FMs8OLSsTqoY"
      },
      "execution_count": 62,
      "outputs": []
    },
    {
      "cell_type": "code",
      "source": [
        "model.compile(\n",
        "loss=keras.losses.SparseCategoricalCrossentropy(from_logits=True),\n",
        "optimizer=keras.optimizers.RMSprop(),\n",
        "metrics=[\"accuracy\"],\n",
        ")"
      ],
      "metadata": {
        "id": "_OtWdQQaTsEI"
      },
      "execution_count": 63,
      "outputs": []
    },
    {
      "cell_type": "code",
      "source": [
        "history = model.fit(x_train, y_train, batch_size=64, epochs=2, validation_split=0.2)"
      ],
      "metadata": {
        "colab": {
          "base_uri": "https://localhost:8080/"
        },
        "id": "ULAN4vZLTuV4",
        "outputId": "b7be2bf6-e044-40be-f2aa-88a832c61a52"
      },
      "execution_count": 64,
      "outputs": [
        {
          "output_type": "stream",
          "name": "stdout",
          "text": [
            "Epoch 1/2\n",
            "750/750 [==============================] - 8s 8ms/step - loss: 0.3551 - accuracy: 0.8972 - val_loss: 0.1832 - val_accuracy: 0.9477\n",
            "Epoch 2/2\n",
            "750/750 [==============================] - 5s 6ms/step - loss: 0.1663 - accuracy: 0.9500 - val_loss: 0.1389 - val_accuracy: 0.9594\n"
          ]
        }
      ]
    },
    {
      "cell_type": "code",
      "source": [
        "test_scores = model.evaluate(x_test, y_test, verbose=2)"
      ],
      "metadata": {
        "colab": {
          "base_uri": "https://localhost:8080/"
        },
        "id": "D60pMHKYTvlg",
        "outputId": "e7b4cce5-ee97-4763-ba8f-c48dd8d28576"
      },
      "execution_count": 65,
      "outputs": [
        {
          "output_type": "stream",
          "name": "stdout",
          "text": [
            "313/313 - 1s - loss: 0.1382 - accuracy: 0.9598 - 554ms/epoch - 2ms/step\n"
          ]
        }
      ]
    },
    {
      "cell_type": "code",
      "source": [
        "print(\"Test loss:\", test_scores[0])"
      ],
      "metadata": {
        "colab": {
          "base_uri": "https://localhost:8080/"
        },
        "id": "iNFfRW5nUByC",
        "outputId": "5b133901-ccc5-4e5d-df95-1439c8e3187e"
      },
      "execution_count": 66,
      "outputs": [
        {
          "output_type": "stream",
          "name": "stdout",
          "text": [
            "Test loss: 0.13818281888961792\n"
          ]
        }
      ]
    },
    {
      "cell_type": "code",
      "source": [
        "print(\"Test accuracy:\", test_scores[1])"
      ],
      "metadata": {
        "colab": {
          "base_uri": "https://localhost:8080/"
        },
        "id": "gYpmfq0fUDRi",
        "outputId": "6862b1a4-0494-40b1-a165-70c42b396d27"
      },
      "execution_count": 67,
      "outputs": [
        {
          "output_type": "stream",
          "name": "stdout",
          "text": [
            "Test accuracy: 0.9598000049591064\n"
          ]
        }
      ]
    }
  ]
}